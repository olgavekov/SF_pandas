{
 "cells": [
  {
   "cell_type": "markdown",
   "metadata": {},
   "source": [
    "### Advanced methods in Pandas"
   ]
  },
  {
   "cell_type": "code",
   "execution_count": null,
   "metadata": {},
   "outputs": [],
   "source": [
    "import pandas as pd\n",
    "ratings_movies = pd.read_csv('C:/Users/olgav/IDE/SF_pandas/P12_pandas/data/ratings_movies.csv')\n",
    "ratings_movies.shape\n",
    "ratings_movies.info()\n",
    "ratings_movies.head(2)"
   ]
  },
  {
   "cell_type": "code",
   "execution_count": null,
   "metadata": {},
   "outputs": [],
   "source": [
    "import re                                       # библиотека для регулярных выражений\n",
    "def get_year_release(arg):                      \n",
    "    candidates = re.findall(r'\\(\\d{4}\\)', arg)  # находим все слова по шаблону \"(DDDD)\"\n",
    "                                                # проверяем число вхождений  \n",
    "    if len(candidates) > 0:                     # если число вхождений больше 0,\n",
    "        year = candidates[0].replace('(', '')   # очищаем строку от знаков \"(\" и \")\"\n",
    "        year = year.replace(')', '')            # очищаем строку от знаков \"(\" и \")\"\n",
    "        return int(year)\n",
    "    else:\n",
    "        return None                                # если год не указан, возвращаем None\n",
    "        return "
   ]
  },
  {
   "cell_type": "code",
   "execution_count": null,
   "metadata": {},
   "outputs": [],
   "source": [
    "ratings_movies['year_release'] = ratings_movies['title'].apply(get_year_release)\n",
    "ratings_movies.info()\n",
    "ratings_movies.tail(3)\n"
   ]
  },
  {
   "cell_type": "code",
   "execution_count": null,
   "metadata": {},
   "outputs": [],
   "source": [
    "mask = ratings_movies['year_release'] == 2010\n",
    "ratings_movies[mask].groupby('genres')['rating'].mean().sort_values()"
   ]
  },
  {
   "cell_type": "code",
   "execution_count": null,
   "metadata": {},
   "outputs": [],
   "source": [
    "mask = ratings_movies['year_release'] == 1999\n",
    "ratings_movies[mask].groupby('title')['rating'].mean().sort_values()"
   ]
  },
  {
   "cell_type": "markdown",
   "metadata": {},
   "source": [
    "#### Groupby"
   ]
  },
  {
   "cell_type": "code",
   "execution_count": null,
   "metadata": {},
   "outputs": [],
   "source": [
    "ratings_movies.groupby('userId')['genres'].nunique().sort_values(ascending=False)"
   ]
  },
  {
   "cell_type": "markdown",
   "metadata": {},
   "source": [
    "#### Several aggregate functions"
   ]
  },
  {
   "cell_type": "code",
   "execution_count": null,
   "metadata": {},
   "outputs": [],
   "source": [
    "# найти userId, который выставил меньше всего оценок, при этом балл был наибольшим\n",
    "ratings_movies.groupby('userId')['rating'].agg(['count', 'mean']).sort_values(by='mean', ascending=False).sort_values(by='count', ascending = True)"
   ]
  },
  {
   "cell_type": "markdown",
   "metadata": {},
   "source": [
    "#### Group and condition"
   ]
  },
  {
   "cell_type": "code",
   "execution_count": null,
   "metadata": {},
   "outputs": [],
   "source": [
    "# жанры в 2018 году с наибольшим средним рейтингом, при этом количество выставленных оценок больше 10\n",
    "mask = ratings_movies['year_release'] == 2018\n",
    "grouped = ratings_movies[mask].groupby('genres')['rating'].agg(['mean', 'count'])\n",
    "grouped[grouped['count']>10].sort_values(by='mean', ascending = False)"
   ]
  },
  {
   "cell_type": "markdown",
   "metadata": {},
   "source": [
    "#### Pivot table"
   ]
  },
  {
   "cell_type": "code",
   "execution_count": null,
   "metadata": {},
   "outputs": [],
   "source": [
    "# добавить признак year_rating - год выставления оценки\n",
    "ratings_movies['year_rating'] = pd.to_datetime(ratings_movies['date']).dt.year\n",
    "ratings_movies.tail()\n",
    "# cоздать сводную таблицу, которая иллюстрирует зависимость среднего рейтинга фильма от года выставления оценки и жанра\n",
    "pivot_rating = ratings_movies.pivot_table(\n",
    "    values='rating',\n",
    "    index = 'genres',\n",
    "    columns = 'year_rating',\n",
    "    aggfunc = 'mean',\n",
    "    fill_value = 0\n",
    ")\n",
    "display(pivot_rating)"
   ]
  },
  {
   "cell_type": "code",
   "execution_count": null,
   "metadata": {},
   "outputs": [],
   "source": [
    "display(pivot_rating[pivot_rating.index == 'Action|Adventure'])\n",
    "display(pivot_rating[pivot_rating.index == 'Comedy'])\n",
    "display(pivot_rating[pivot_rating.columns == '2010'])"
   ]
  },
  {
   "cell_type": "markdown",
   "metadata": {},
   "source": []
  }
 ],
 "metadata": {
  "kernelspec": {
   "display_name": "Python 3.9.12 ('base')",
   "language": "python",
   "name": "python3"
  },
  "language_info": {
   "codemirror_mode": {
    "name": "ipython",
    "version": 3
   },
   "file_extension": ".py",
   "mimetype": "text/x-python",
   "name": "python",
   "nbconvert_exporter": "python",
   "pygments_lexer": "ipython3",
   "version": "3.9.12"
  },
  "orig_nbformat": 4,
  "vscode": {
   "interpreter": {
    "hash": "0fb20b21d5fb9b9dbea4ff92731b997a5d987c1af67256bebeeeba4d0aebc764"
   }
  }
 },
 "nbformat": 4,
 "nbformat_minor": 2
}
